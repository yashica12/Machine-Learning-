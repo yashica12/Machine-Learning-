{
 "cells": [
  {
   "cell_type": "code",
   "execution_count": 1,
   "metadata": {},
   "outputs": [],
   "source": [
    "import pandas as pd\n",
    "import numpy as np"
   ]
  },
  {
   "cell_type": "code",
   "execution_count": 2,
   "metadata": {},
   "outputs": [],
   "source": [
    "pd.set_option('display.max_columns', 500)\n"
   ]
  },
  {
   "cell_type": "markdown",
   "metadata": {},
   "source": [
    "# Question 1 - Generating Binomial Distribution"
   ]
  },
  {
   "cell_type": "code",
   "execution_count": 13,
   "metadata": {},
   "outputs": [
    {
     "name": "stdout",
     "output_type": "stream",
     "text": [
      "0\n"
     ]
    }
   ],
   "source": [
    "seed=int(input())"
   ]
  },
  {
   "cell_type": "code",
   "execution_count": 14,
   "metadata": {},
   "outputs": [
    {
     "name": "stdout",
     "output_type": "stream",
     "text": [
      "10\n"
     ]
    }
   ],
   "source": [
    "n=int(input())\n"
   ]
  },
  {
   "cell_type": "code",
   "execution_count": 15,
   "metadata": {},
   "outputs": [
    {
     "name": "stdout",
     "output_type": "stream",
     "text": [
      "0.5\n"
     ]
    }
   ],
   "source": [
    "p=float(input())\n"
   ]
  },
  {
   "cell_type": "code",
   "execution_count": 16,
   "metadata": {},
   "outputs": [
    {
     "name": "stdout",
     "output_type": "stream",
     "text": [
      "[5 6 5 5 5 6 5 7 8 5]\n"
     ]
    }
   ],
   "source": [
    "if p>1 :\n",
    "    print('Incorrect probability entered')\n",
    "else:\n",
    "    np.random.seed(seed)\n",
    "    s = np.random.binomial(n, p, 10)\n",
    "    print(s)\n",
    "\n"
   ]
  },
  {
   "cell_type": "markdown",
   "metadata": {},
   "source": [
    "# Question 2 - Coloured cards"
   ]
  },
  {
   "cell_type": "code",
   "execution_count": 17,
   "metadata": {},
   "outputs": [
    {
     "name": "stdout",
     "output_type": "stream",
     "text": [
      "0.2\n",
      "0.5\n",
      "0.4\n"
     ]
    }
   ],
   "source": [
    "#The given question is a conditional probability of P(B/A) = P(A and B) / P(A) where P(A) = y is probability of white card being drawn first and P(A and B) = x is the prob of white and then black occuring\n",
    "x = float(input())\n",
    "y = float(input())\n",
    "if x >1 or y > 1 : \n",
    "    print('probability cannot be greater than 1')\n",
    "else:\n",
    "    if y == 0 :\n",
    "        print('probability y cannot be zero')\n",
    "\n",
    "    elif x>y :\n",
    "        print('incorrect probability entered')\n",
    "    else:\n",
    "        prob = x/y \n",
    "        print(prob)\n"
   ]
  },
  {
   "cell_type": "markdown",
   "metadata": {},
   "source": [
    "# Question 3 - Entrance Test\n"
   ]
  },
  {
   "cell_type": "code",
   "execution_count": 8,
   "metadata": {},
   "outputs": [
    {
     "name": "stdout",
     "output_type": "stream",
     "text": [
      "100\n",
      "10\n",
      "0.84\n"
     ]
    }
   ],
   "source": [
    "import scipy.stats\n",
    "m=float(input())#mean\n",
    "sd=float(input())#standard deviation\n",
    "# Required probability P(X > 90) = total prob - area to the left of 90 marks \n",
    "prob = 1 - scipy.stats.norm.cdf(90,m,sd)\n",
    "print(round(prob , 2))\n"
   ]
  },
  {
   "cell_type": "markdown",
   "metadata": {},
   "source": [
    "# Question 4 - Symmetric triangle"
   ]
  },
  {
   "cell_type": "code",
   "execution_count": 9,
   "metadata": {},
   "outputs": [
    {
     "name": "stdout",
     "output_type": "stream",
     "text": [
      "5\n",
      "1\n",
      "121\n",
      "12321\n",
      "1234321\n",
      "123454321\n"
     ]
    }
   ],
   "source": [
    "n=int(input())\n",
    "if n >0:\n",
    "    for i in range(1, n+1):\n",
    "        print((10**i//9)**2)\n",
    "else:\n",
    "    print('n should be greater than zero')\n"
   ]
  },
  {
   "cell_type": "markdown",
   "metadata": {},
   "source": [
    "# Question 5 - Seating Arrangement\n"
   ]
  },
  {
   "cell_type": "code",
   "execution_count": 10,
   "metadata": {},
   "outputs": [
    {
     "name": "stdout",
     "output_type": "stream",
     "text": [
      "15\n"
     ]
    }
   ],
   "source": [
    "n=int(input())"
   ]
  },
  {
   "cell_type": "code",
   "execution_count": 12,
   "metadata": {},
   "outputs": [
    {
     "name": "stdout",
     "output_type": "stream",
     "text": [
      "0.8571\n"
     ]
    }
   ],
   "source": [
    "import math \n",
    "# Total permutation of seating = (n-1)! \n",
    "# Probability of them sitting together always : considering them as one person, permutation of sitting = (n-2)! . Permutation among themselves = 2! \n",
    "\n",
    "prob_together = (math.factorial(n-2)*2)/(math.factorial(n-1))\n",
    "prob = 1 - prob_together\n",
    "print(round(prob,4))"
   ]
  },
  {
   "cell_type": "code",
   "execution_count": null,
   "metadata": {},
   "outputs": [],
   "source": []
  }
 ],
 "metadata": {
  "kernelspec": {
   "display_name": "Python 3",
   "language": "python",
   "name": "python3"
  },
  "language_info": {
   "codemirror_mode": {
    "name": "ipython",
    "version": 3
   },
   "file_extension": ".py",
   "mimetype": "text/x-python",
   "name": "python",
   "nbconvert_exporter": "python",
   "pygments_lexer": "ipython3",
   "version": "3.6.7"
  }
 },
 "nbformat": 4,
 "nbformat_minor": 2
}
